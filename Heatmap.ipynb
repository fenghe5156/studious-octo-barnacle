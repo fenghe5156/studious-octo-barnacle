{
 "cells": [
  {
   "cell_type": "code",
   "execution_count": 1,
   "metadata": {},
   "outputs": [],
   "source": [
    "import urllib.request\n",
    "import pandas as pd\n",
    "import seaborn as sns"
   ]
  },
  {
   "cell_type": "code",
   "execution_count": 2,
   "metadata": {},
   "outputs": [],
   "source": [
    "source_url = \"https://raw.githubusercontent.com/foerstner-lab/Bits_and_pieces_for_the_carpentries_workshops/main/text_file_examples/Expression_comparison.csv\"\n",
    "table_file = \"Expression_comparison.csv\""
   ]
  },
  {
   "cell_type": "code",
   "execution_count": 3,
   "metadata": {},
   "outputs": [
    {
     "data": {
      "text/plain": [
       "('Expression_comparison.csv', <http.client.HTTPMessage at 0x2a0c852d040>)"
      ]
     },
     "execution_count": 3,
     "metadata": {},
     "output_type": "execute_result"
    }
   ],
   "source": [
    "urllib.request.urlretrieve(source_url, table_file)"
   ]
  },
  {
   "cell_type": "code",
   "execution_count": 4,
   "metadata": {},
   "outputs": [],
   "source": [
    "comparisons=pd.read_csv(table_file, sep=\"\\t\", comment=\"#\")"
   ]
  },
  {
   "cell_type": "code",
   "execution_count": 5,
   "metadata": {},
   "outputs": [
    {
     "data": {
      "text/html": [
       "<div>\n",
       "<style scoped>\n",
       "    .dataframe tbody tr th:only-of-type {\n",
       "        vertical-align: middle;\n",
       "    }\n",
       "\n",
       "    .dataframe tbody tr th {\n",
       "        vertical-align: top;\n",
       "    }\n",
       "\n",
       "    .dataframe thead th {\n",
       "        text-align: right;\n",
       "    }\n",
       "</style>\n",
       "<table border=\"1\" class=\"dataframe\">\n",
       "  <thead>\n",
       "    <tr style=\"text-align: right;\">\n",
       "      <th></th>\n",
       "      <th>Gene</th>\n",
       "      <th>Comparison_B_to_A</th>\n",
       "      <th>Comparison_C_to_A</th>\n",
       "      <th>Comparison_D_to_A</th>\n",
       "      <th>Comparison_E_to_A</th>\n",
       "    </tr>\n",
       "  </thead>\n",
       "  <tbody>\n",
       "    <tr>\n",
       "      <th>0</th>\n",
       "      <td>thrL</td>\n",
       "      <td>-0.50</td>\n",
       "      <td>0.00</td>\n",
       "      <td>0.1000</td>\n",
       "      <td>0.10</td>\n",
       "    </tr>\n",
       "    <tr>\n",
       "      <th>1</th>\n",
       "      <td>thrA</td>\n",
       "      <td>-1.20</td>\n",
       "      <td>0.10</td>\n",
       "      <td>0.1000</td>\n",
       "      <td>0.71</td>\n",
       "    </tr>\n",
       "    <tr>\n",
       "      <th>2</th>\n",
       "      <td>thrB</td>\n",
       "      <td>2.00</td>\n",
       "      <td>0.10</td>\n",
       "      <td>-2.5000</td>\n",
       "      <td>0.40</td>\n",
       "    </tr>\n",
       "    <tr>\n",
       "      <th>3</th>\n",
       "      <td>thrC</td>\n",
       "      <td>0.00</td>\n",
       "      <td>0.10</td>\n",
       "      <td>0.1000</td>\n",
       "      <td>0.10</td>\n",
       "    </tr>\n",
       "    <tr>\n",
       "      <th>4</th>\n",
       "      <td>yaaX</td>\n",
       "      <td>0.10</td>\n",
       "      <td>0.71</td>\n",
       "      <td>0.3000</td>\n",
       "      <td>0.10</td>\n",
       "    </tr>\n",
       "    <tr>\n",
       "      <th>5</th>\n",
       "      <td>yaaA</td>\n",
       "      <td>0.10</td>\n",
       "      <td>0.90</td>\n",
       "      <td>0.1000</td>\n",
       "      <td>-0.50</td>\n",
       "    </tr>\n",
       "    <tr>\n",
       "      <th>6</th>\n",
       "      <td>yaaJ</td>\n",
       "      <td>-0.10</td>\n",
       "      <td>-0.50</td>\n",
       "      <td>-1.1000</td>\n",
       "      <td>0.30</td>\n",
       "    </tr>\n",
       "    <tr>\n",
       "      <th>7</th>\n",
       "      <td>talB</td>\n",
       "      <td>0.71</td>\n",
       "      <td>-0.10</td>\n",
       "      <td>0.1000</td>\n",
       "      <td>-0.10</td>\n",
       "    </tr>\n",
       "    <tr>\n",
       "      <th>8</th>\n",
       "      <td>mog</td>\n",
       "      <td>0.23</td>\n",
       "      <td>0.70</td>\n",
       "      <td>0.7100</td>\n",
       "      <td>0.10</td>\n",
       "    </tr>\n",
       "    <tr>\n",
       "      <th>9</th>\n",
       "      <td>satP</td>\n",
       "      <td>0.40</td>\n",
       "      <td>-0.10</td>\n",
       "      <td>0.4000</td>\n",
       "      <td>0.71</td>\n",
       "    </tr>\n",
       "    <tr>\n",
       "      <th>10</th>\n",
       "      <td>yaaW</td>\n",
       "      <td>0.30</td>\n",
       "      <td>0.30</td>\n",
       "      <td>0.1000</td>\n",
       "      <td>0.10</td>\n",
       "    </tr>\n",
       "    <tr>\n",
       "      <th>11</th>\n",
       "      <td>mbiA</td>\n",
       "      <td>0.01</td>\n",
       "      <td>-0.10</td>\n",
       "      <td>-0.5000</td>\n",
       "      <td>0.10</td>\n",
       "    </tr>\n",
       "    <tr>\n",
       "      <th>12</th>\n",
       "      <td>yaaI</td>\n",
       "      <td>2.40</td>\n",
       "      <td>0.31</td>\n",
       "      <td>0.1000</td>\n",
       "      <td>0.40</td>\n",
       "    </tr>\n",
       "    <tr>\n",
       "      <th>13</th>\n",
       "      <td>dnaK</td>\n",
       "      <td>0.01</td>\n",
       "      <td>0.80</td>\n",
       "      <td>0.6000</td>\n",
       "      <td>2.50</td>\n",
       "    </tr>\n",
       "    <tr>\n",
       "      <th>14</th>\n",
       "      <td>dnaJ</td>\n",
       "      <td>0.23</td>\n",
       "      <td>0.01</td>\n",
       "      <td>0.3737</td>\n",
       "      <td>0.30</td>\n",
       "    </tr>\n",
       "  </tbody>\n",
       "</table>\n",
       "</div>"
      ],
      "text/plain": [
       "    Gene  Comparison_B_to_A  Comparison_C_to_A  Comparison_D_to_A  \\\n",
       "0   thrL              -0.50               0.00             0.1000   \n",
       "1   thrA              -1.20               0.10             0.1000   \n",
       "2   thrB               2.00               0.10            -2.5000   \n",
       "3   thrC               0.00               0.10             0.1000   \n",
       "4   yaaX               0.10               0.71             0.3000   \n",
       "5   yaaA               0.10               0.90             0.1000   \n",
       "6   yaaJ              -0.10              -0.50            -1.1000   \n",
       "7   talB               0.71              -0.10             0.1000   \n",
       "8    mog               0.23               0.70             0.7100   \n",
       "9   satP               0.40              -0.10             0.4000   \n",
       "10  yaaW               0.30               0.30             0.1000   \n",
       "11  mbiA               0.01              -0.10            -0.5000   \n",
       "12  yaaI               2.40               0.31             0.1000   \n",
       "13  dnaK               0.01               0.80             0.6000   \n",
       "14  dnaJ               0.23               0.01             0.3737   \n",
       "\n",
       "    Comparison_E_to_A  \n",
       "0                0.10  \n",
       "1                0.71  \n",
       "2                0.40  \n",
       "3                0.10  \n",
       "4                0.10  \n",
       "5               -0.50  \n",
       "6                0.30  \n",
       "7               -0.10  \n",
       "8                0.10  \n",
       "9                0.71  \n",
       "10               0.10  \n",
       "11               0.10  \n",
       "12               0.40  \n",
       "13               2.50  \n",
       "14               0.30  "
      ]
     },
     "execution_count": 5,
     "metadata": {},
     "output_type": "execute_result"
    }
   ],
   "source": [
    "comparisons"
   ]
  },
  {
   "cell_type": "code",
   "execution_count": 7,
   "metadata": {},
   "outputs": [],
   "source": [
    "comparisons.set_index(\"Gene\", inplace=True)"
   ]
  },
  {
   "cell_type": "code",
   "execution_count": 8,
   "metadata": {},
   "outputs": [
    {
     "data": {
      "text/html": [
       "<div>\n",
       "<style scoped>\n",
       "    .dataframe tbody tr th:only-of-type {\n",
       "        vertical-align: middle;\n",
       "    }\n",
       "\n",
       "    .dataframe tbody tr th {\n",
       "        vertical-align: top;\n",
       "    }\n",
       "\n",
       "    .dataframe thead th {\n",
       "        text-align: right;\n",
       "    }\n",
       "</style>\n",
       "<table border=\"1\" class=\"dataframe\">\n",
       "  <thead>\n",
       "    <tr style=\"text-align: right;\">\n",
       "      <th></th>\n",
       "      <th>Comparison_B_to_A</th>\n",
       "      <th>Comparison_C_to_A</th>\n",
       "      <th>Comparison_D_to_A</th>\n",
       "      <th>Comparison_E_to_A</th>\n",
       "    </tr>\n",
       "    <tr>\n",
       "      <th>Gene</th>\n",
       "      <th></th>\n",
       "      <th></th>\n",
       "      <th></th>\n",
       "      <th></th>\n",
       "    </tr>\n",
       "  </thead>\n",
       "  <tbody>\n",
       "    <tr>\n",
       "      <th>thrL</th>\n",
       "      <td>-0.50</td>\n",
       "      <td>0.00</td>\n",
       "      <td>0.1000</td>\n",
       "      <td>0.10</td>\n",
       "    </tr>\n",
       "    <tr>\n",
       "      <th>thrA</th>\n",
       "      <td>-1.20</td>\n",
       "      <td>0.10</td>\n",
       "      <td>0.1000</td>\n",
       "      <td>0.71</td>\n",
       "    </tr>\n",
       "    <tr>\n",
       "      <th>thrB</th>\n",
       "      <td>2.00</td>\n",
       "      <td>0.10</td>\n",
       "      <td>-2.5000</td>\n",
       "      <td>0.40</td>\n",
       "    </tr>\n",
       "    <tr>\n",
       "      <th>thrC</th>\n",
       "      <td>0.00</td>\n",
       "      <td>0.10</td>\n",
       "      <td>0.1000</td>\n",
       "      <td>0.10</td>\n",
       "    </tr>\n",
       "    <tr>\n",
       "      <th>yaaX</th>\n",
       "      <td>0.10</td>\n",
       "      <td>0.71</td>\n",
       "      <td>0.3000</td>\n",
       "      <td>0.10</td>\n",
       "    </tr>\n",
       "    <tr>\n",
       "      <th>yaaA</th>\n",
       "      <td>0.10</td>\n",
       "      <td>0.90</td>\n",
       "      <td>0.1000</td>\n",
       "      <td>-0.50</td>\n",
       "    </tr>\n",
       "    <tr>\n",
       "      <th>yaaJ</th>\n",
       "      <td>-0.10</td>\n",
       "      <td>-0.50</td>\n",
       "      <td>-1.1000</td>\n",
       "      <td>0.30</td>\n",
       "    </tr>\n",
       "    <tr>\n",
       "      <th>talB</th>\n",
       "      <td>0.71</td>\n",
       "      <td>-0.10</td>\n",
       "      <td>0.1000</td>\n",
       "      <td>-0.10</td>\n",
       "    </tr>\n",
       "    <tr>\n",
       "      <th>mog</th>\n",
       "      <td>0.23</td>\n",
       "      <td>0.70</td>\n",
       "      <td>0.7100</td>\n",
       "      <td>0.10</td>\n",
       "    </tr>\n",
       "    <tr>\n",
       "      <th>satP</th>\n",
       "      <td>0.40</td>\n",
       "      <td>-0.10</td>\n",
       "      <td>0.4000</td>\n",
       "      <td>0.71</td>\n",
       "    </tr>\n",
       "    <tr>\n",
       "      <th>yaaW</th>\n",
       "      <td>0.30</td>\n",
       "      <td>0.30</td>\n",
       "      <td>0.1000</td>\n",
       "      <td>0.10</td>\n",
       "    </tr>\n",
       "    <tr>\n",
       "      <th>mbiA</th>\n",
       "      <td>0.01</td>\n",
       "      <td>-0.10</td>\n",
       "      <td>-0.5000</td>\n",
       "      <td>0.10</td>\n",
       "    </tr>\n",
       "    <tr>\n",
       "      <th>yaaI</th>\n",
       "      <td>2.40</td>\n",
       "      <td>0.31</td>\n",
       "      <td>0.1000</td>\n",
       "      <td>0.40</td>\n",
       "    </tr>\n",
       "    <tr>\n",
       "      <th>dnaK</th>\n",
       "      <td>0.01</td>\n",
       "      <td>0.80</td>\n",
       "      <td>0.6000</td>\n",
       "      <td>2.50</td>\n",
       "    </tr>\n",
       "    <tr>\n",
       "      <th>dnaJ</th>\n",
       "      <td>0.23</td>\n",
       "      <td>0.01</td>\n",
       "      <td>0.3737</td>\n",
       "      <td>0.30</td>\n",
       "    </tr>\n",
       "  </tbody>\n",
       "</table>\n",
       "</div>"
      ],
      "text/plain": [
       "      Comparison_B_to_A  Comparison_C_to_A  Comparison_D_to_A  \\\n",
       "Gene                                                            \n",
       "thrL              -0.50               0.00             0.1000   \n",
       "thrA              -1.20               0.10             0.1000   \n",
       "thrB               2.00               0.10            -2.5000   \n",
       "thrC               0.00               0.10             0.1000   \n",
       "yaaX               0.10               0.71             0.3000   \n",
       "yaaA               0.10               0.90             0.1000   \n",
       "yaaJ              -0.10              -0.50            -1.1000   \n",
       "talB               0.71              -0.10             0.1000   \n",
       "mog                0.23               0.70             0.7100   \n",
       "satP               0.40              -0.10             0.4000   \n",
       "yaaW               0.30               0.30             0.1000   \n",
       "mbiA               0.01              -0.10            -0.5000   \n",
       "yaaI               2.40               0.31             0.1000   \n",
       "dnaK               0.01               0.80             0.6000   \n",
       "dnaJ               0.23               0.01             0.3737   \n",
       "\n",
       "      Comparison_E_to_A  \n",
       "Gene                     \n",
       "thrL               0.10  \n",
       "thrA               0.71  \n",
       "thrB               0.40  \n",
       "thrC               0.10  \n",
       "yaaX               0.10  \n",
       "yaaA              -0.50  \n",
       "yaaJ               0.30  \n",
       "talB              -0.10  \n",
       "mog                0.10  \n",
       "satP               0.71  \n",
       "yaaW               0.10  \n",
       "mbiA               0.10  \n",
       "yaaI               0.40  \n",
       "dnaK               2.50  \n",
       "dnaJ               0.30  "
      ]
     },
     "execution_count": 8,
     "metadata": {},
     "output_type": "execute_result"
    }
   ],
   "source": [
    "comparisons"
   ]
  },
  {
   "cell_type": "code",
   "execution_count": 9,
   "metadata": {},
   "outputs": [],
   "source": [
    "%matplotlib inline"
   ]
  },
  {
   "cell_type": "code",
   "execution_count": 10,
   "metadata": {},
   "outputs": [
    {
     "data": {
      "image/png": "[encoded data removed]",
      "text/plain": [
       "<Figure size 432x288 with 2 Axes>"
      ]
     },
     "metadata": {
      "needs_background": "light"
     },
     "output_type": "display_data"
    }
   ],
   "source": [
    "ax=sns.heatmap(comparisons)"
   ]
  },
  {
   "cell_type": "code",
   "execution_count": 11,
   "metadata": {},
   "outputs": [
    {
     "data": {
      "image/png": "[encoded data removed]",
      "text/plain": [
       "<Figure size 432x288 with 2 Axes>"
      ]
     },
     "metadata": {
      "needs_background": "light"
     },
     "output_type": "display_data"
    }
   ],
   "source": [
    "ax=sns.heatmap(comparisons,annot=True, cmap=\"YlGnBu\")"
   ]
  },
  {
   "cell_type": "code",
   "execution_count": 12,
   "metadata": {},
   "outputs": [
    {
     "ename": "AttributeError",
     "evalue": "'AxesSubplot' object has no attribute 'savefig'",
     "output_type": "error",
     "traceback": [
      "\u001b[1;31m---------------------------------------------------------------------------\u001b[0m",
      "\u001b[1;31mAttributeError\u001b[0m                            Traceback (most recent call last)",
      "\u001b[1;32m<ipython-input-12-08beec84cf2f>\u001b[0m in \u001b[0;36m<module>\u001b[1;34m\u001b[0m\n\u001b[1;32m----> 1\u001b[1;33m \u001b[0max\u001b[0m\u001b[1;33m.\u001b[0m\u001b[0msavefig\u001b[0m\u001b[1;33m(\u001b[0m\u001b[1;34m\"heatmap.pdf\"\u001b[0m\u001b[1;33m)\u001b[0m\u001b[1;33m\u001b[0m\u001b[1;33m\u001b[0m\u001b[0m\n\u001b[0m",
      "\u001b[1;31mAttributeError\u001b[0m: 'AxesSubplot' object has no attribute 'savefig'"
     ]
    }
   ],
   "source": [
    "ax.savefig(\"heatmap.pdf\")"
   ]
  },
  {
   "cell_type": "code",
   "execution_count": null,
   "metadata": {},
   "outputs": [],
   "source": [
    "fig=ax.get_figure()\n"
   ]
  }
 ],
 "metadata": {
  "kernelspec": {
   "display_name": "Python 3",
   "language": "python",
   "name": "python3"
  },
  "language_info": {
   "codemirror_mode": {
    "name": "ipython",
    "version": 3
   },
   "file_extension": ".py",
   "mimetype": "text/x-python",
   "name": "python",
   "nbconvert_exporter": "python",
   "pygments_lexer": "ipython3",
   "version": "3.8.5"
  }
 },
 "nbformat": 4,
 "nbformat_minor": 4
}
