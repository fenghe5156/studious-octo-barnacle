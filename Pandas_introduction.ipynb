{
 "cells": [
  {
   "cell_type": "code",
   "execution_count": 1,
   "metadata": {},
   "outputs": [],
   "source": [
    "import urllib.request\n",
    "import pandas as pd"
   ]
  },
  {
   "cell_type": "code",
   "execution_count": 2,
   "metadata": {},
   "outputs": [],
   "source": [
    "source_url = \"ftp://ftp.ncbi.nlm.nih.gov/genomes/refseq/bacteria/Escherichia_coli/reference/GCF_000005845.2_ASM584v2/GCF_000005845.2_ASM584v2_genomic.gff.gz\"\n",
    "gff_file = \"E_coli.gff.gz\""
   ]
  },
  {
   "cell_type": "code",
   "execution_count": 3,
   "metadata": {},
   "outputs": [
    {
     "data": {
      "text/plain": [
       "('E_coli.gff.gz', <email.message.Message at 0x28ba95c4c40>)"
      ]
     },
     "execution_count": 3,
     "metadata": {},
     "output_type": "execute_result"
    }
   ],
   "source": [
    "urllib.request.urlretrieve(source_url, gff_file)"
   ]
  },
  {
   "cell_type": "code",
   "execution_count": 4,
   "metadata": {},
   "outputs": [],
   "source": [
    "gff_data=pd.read_csv(gff_file, sep=\"\\t\", \n",
    "                     comment=\"#\",\n",
    "                    names=[\"seqid\", \"source\", \"type\", \"start\", \"end\", \"score\", \"strand\", \"phase\", \"attributes\"])"
   ]
  },
  {
   "cell_type": "code",
   "execution_count": 7,
   "metadata": {},
   "outputs": [
    {
     "name": "stdout",
     "output_type": "stream",
     "text": [
      "Object `sep` not found.\n"
     ]
    }
   ],
   "source": [
    "sep?"
   ]
  },
  {
   "cell_type": "code",
   "execution_count": 6,
   "metadata": {},
   "outputs": [
    {
     "data": {
      "text/html": [
       "<div>\n",
       "<style scoped>\n",
       "    .dataframe tbody tr th:only-of-type {\n",
       "        vertical-align: middle;\n",
       "    }\n",
       "\n",
       "    .dataframe tbody tr th {\n",
       "        vertical-align: top;\n",
       "    }\n",
       "\n",
       "    .dataframe thead th {\n",
       "        text-align: right;\n",
       "    }\n",
       "</style>\n",
       "<table border=\"1\" class=\"dataframe\">\n",
       "  <thead>\n",
       "    <tr style=\"text-align: right;\">\n",
       "      <th></th>\n",
       "      <th>seqid</th>\n",
       "      <th>source</th>\n",
       "      <th>type</th>\n",
       "      <th>start</th>\n",
       "      <th>end</th>\n",
       "      <th>score</th>\n",
       "      <th>strand</th>\n",
       "      <th>phase</th>\n",
       "      <th>attributes</th>\n",
       "    </tr>\n",
       "  </thead>\n",
       "  <tbody>\n",
       "    <tr>\n",
       "      <th>0</th>\n",
       "      <td>NC_000913.3</td>\n",
       "      <td>RefSeq</td>\n",
       "      <td>region</td>\n",
       "      <td>1</td>\n",
       "      <td>4641652</td>\n",
       "      <td>.</td>\n",
       "      <td>+</td>\n",
       "      <td>.</td>\n",
       "      <td>ID=NC_000913.3:1..4641652;Dbxref=taxon:511145;...</td>\n",
       "    </tr>\n",
       "    <tr>\n",
       "      <th>1</th>\n",
       "      <td>NC_000913.3</td>\n",
       "      <td>RefSeq</td>\n",
       "      <td>gene</td>\n",
       "      <td>190</td>\n",
       "      <td>255</td>\n",
       "      <td>.</td>\n",
       "      <td>+</td>\n",
       "      <td>.</td>\n",
       "      <td>ID=gene-b0001;Dbxref=ASAP:ABE-0000006,ECOCYC:E...</td>\n",
       "    </tr>\n",
       "    <tr>\n",
       "      <th>2</th>\n",
       "      <td>NC_000913.3</td>\n",
       "      <td>RefSeq</td>\n",
       "      <td>CDS</td>\n",
       "      <td>190</td>\n",
       "      <td>255</td>\n",
       "      <td>.</td>\n",
       "      <td>+</td>\n",
       "      <td>0</td>\n",
       "      <td>ID=cds-NP_414542.1;Parent=gene-b0001;Dbxref=Un...</td>\n",
       "    </tr>\n",
       "    <tr>\n",
       "      <th>3</th>\n",
       "      <td>NC_000913.3</td>\n",
       "      <td>RefSeq</td>\n",
       "      <td>gene</td>\n",
       "      <td>337</td>\n",
       "      <td>2799</td>\n",
       "      <td>.</td>\n",
       "      <td>+</td>\n",
       "      <td>.</td>\n",
       "      <td>ID=gene-b0002;Dbxref=ASAP:ABE-0000008,ECOCYC:E...</td>\n",
       "    </tr>\n",
       "    <tr>\n",
       "      <th>4</th>\n",
       "      <td>NC_000913.3</td>\n",
       "      <td>RefSeq</td>\n",
       "      <td>CDS</td>\n",
       "      <td>337</td>\n",
       "      <td>2799</td>\n",
       "      <td>.</td>\n",
       "      <td>+</td>\n",
       "      <td>0</td>\n",
       "      <td>ID=cds-NP_414543.1;Parent=gene-b0002;Dbxref=Un...</td>\n",
       "    </tr>\n",
       "    <tr>\n",
       "      <th>...</th>\n",
       "      <td>...</td>\n",
       "      <td>...</td>\n",
       "      <td>...</td>\n",
       "      <td>...</td>\n",
       "      <td>...</td>\n",
       "      <td>...</td>\n",
       "      <td>...</td>\n",
       "      <td>...</td>\n",
       "      <td>...</td>\n",
       "    </tr>\n",
       "    <tr>\n",
       "      <th>10116</th>\n",
       "      <td>NC_000913.3</td>\n",
       "      <td>RefSeq</td>\n",
       "      <td>CDS</td>\n",
       "      <td>4639590</td>\n",
       "      <td>4640306</td>\n",
       "      <td>.</td>\n",
       "      <td>-</td>\n",
       "      <td>0</td>\n",
       "      <td>ID=cds-NP_418818.1;Parent=gene-b4401;Dbxref=Un...</td>\n",
       "    </tr>\n",
       "    <tr>\n",
       "      <th>10117</th>\n",
       "      <td>NC_000913.3</td>\n",
       "      <td>RefSeq</td>\n",
       "      <td>gene</td>\n",
       "      <td>4640402</td>\n",
       "      <td>4640542</td>\n",
       "      <td>.</td>\n",
       "      <td>+</td>\n",
       "      <td>.</td>\n",
       "      <td>ID=gene-b4402;Dbxref=ASAP:ABE-0014437,ECOCYC:G...</td>\n",
       "    </tr>\n",
       "    <tr>\n",
       "      <th>10118</th>\n",
       "      <td>NC_000913.3</td>\n",
       "      <td>RefSeq</td>\n",
       "      <td>CDS</td>\n",
       "      <td>4640402</td>\n",
       "      <td>4640542</td>\n",
       "      <td>.</td>\n",
       "      <td>+</td>\n",
       "      <td>0</td>\n",
       "      <td>ID=cds-NP_418819.1;Parent=gene-b4402;Dbxref=Un...</td>\n",
       "    </tr>\n",
       "    <tr>\n",
       "      <th>10119</th>\n",
       "      <td>NC_000913.3</td>\n",
       "      <td>RefSeq</td>\n",
       "      <td>gene</td>\n",
       "      <td>4640942</td>\n",
       "      <td>4641628</td>\n",
       "      <td>.</td>\n",
       "      <td>+</td>\n",
       "      <td>.</td>\n",
       "      <td>ID=gene-b4403;Dbxref=ASAP:ABE-0014442,ECOCYC:E...</td>\n",
       "    </tr>\n",
       "    <tr>\n",
       "      <th>10120</th>\n",
       "      <td>NC_000913.3</td>\n",
       "      <td>RefSeq</td>\n",
       "      <td>CDS</td>\n",
       "      <td>4640942</td>\n",
       "      <td>4641628</td>\n",
       "      <td>.</td>\n",
       "      <td>+</td>\n",
       "      <td>0</td>\n",
       "      <td>ID=cds-NP_418820.1;Parent=gene-b4403;Dbxref=Un...</td>\n",
       "    </tr>\n",
       "  </tbody>\n",
       "</table>\n",
       "<p>10121 rows × 9 columns</p>\n",
       "</div>"
      ],
      "text/plain": [
       "             seqid  source    type    start      end score strand phase  \\\n",
       "0      NC_000913.3  RefSeq  region        1  4641652     .      +     .   \n",
       "1      NC_000913.3  RefSeq    gene      190      255     .      +     .   \n",
       "2      NC_000913.3  RefSeq     CDS      190      255     .      +     0   \n",
       "3      NC_000913.3  RefSeq    gene      337     2799     .      +     .   \n",
       "4      NC_000913.3  RefSeq     CDS      337     2799     .      +     0   \n",
       "...            ...     ...     ...      ...      ...   ...    ...   ...   \n",
       "10116  NC_000913.3  RefSeq     CDS  4639590  4640306     .      -     0   \n",
       "10117  NC_000913.3  RefSeq    gene  4640402  4640542     .      +     .   \n",
       "10118  NC_000913.3  RefSeq     CDS  4640402  4640542     .      +     0   \n",
       "10119  NC_000913.3  RefSeq    gene  4640942  4641628     .      +     .   \n",
       "10120  NC_000913.3  RefSeq     CDS  4640942  4641628     .      +     0   \n",
       "\n",
       "                                              attributes  \n",
       "0      ID=NC_000913.3:1..4641652;Dbxref=taxon:511145;...  \n",
       "1      ID=gene-b0001;Dbxref=ASAP:ABE-0000006,ECOCYC:E...  \n",
       "2      ID=cds-NP_414542.1;Parent=gene-b0001;Dbxref=Un...  \n",
       "3      ID=gene-b0002;Dbxref=ASAP:ABE-0000008,ECOCYC:E...  \n",
       "4      ID=cds-NP_414543.1;Parent=gene-b0002;Dbxref=Un...  \n",
       "...                                                  ...  \n",
       "10116  ID=cds-NP_418818.1;Parent=gene-b4401;Dbxref=Un...  \n",
       "10117  ID=gene-b4402;Dbxref=ASAP:ABE-0014437,ECOCYC:G...  \n",
       "10118  ID=cds-NP_418819.1;Parent=gene-b4402;Dbxref=Un...  \n",
       "10119  ID=gene-b4403;Dbxref=ASAP:ABE-0014442,ECOCYC:E...  \n",
       "10120  ID=cds-NP_418820.1;Parent=gene-b4403;Dbxref=Un...  \n",
       "\n",
       "[10121 rows x 9 columns]"
      ]
     },
     "execution_count": 6,
     "metadata": {},
     "output_type": "execute_result"
    }
   ],
   "source": [
    "gff_data"
   ]
  },
  {
   "cell_type": "code",
   "execution_count": null,
   "metadata": {},
   "outputs": [],
   "source": []
  }
 ],
 "metadata": {
  "kernelspec": {
   "display_name": "Python 3",
   "language": "python",
   "name": "python3"
  },
  "language_info": {
   "codemirror_mode": {
    "name": "ipython",
    "version": 3
   },
   "file_extension": ".py",
   "mimetype": "text/x-python",
   "name": "python",
   "nbconvert_exporter": "python",
   "pygments_lexer": "ipython3",
   "version": "3.8.5"
  }
 },
 "nbformat": 4,
 "nbformat_minor": 4
}
